{
 "cells": [
  {
   "cell_type": "markdown",
   "id": "7d144ad7-7448-475a-88f4-31e330840a5c",
   "metadata": {},
   "source": [
    "Voeg een notebook toe"
   ]
  },
  {
   "cell_type": "markdown",
   "id": "d76aaaa2-45bc-42a9-a3f2-fa3488fa92e8",
   "metadata": {},
   "source": [
    "Ik voeg nog wat toe"
   ]
  }
 ],
 "metadata": {
  "kernelspec": {
   "display_name": "Python 3 (ipykernel)",
   "language": "python",
   "name": "python3"
  },
  "language_info": {
   "codemirror_mode": {
    "name": "ipython",
    "version": 3
   },
   "file_extension": ".py",
   "mimetype": "text/x-python",
   "name": "python",
   "nbconvert_exporter": "python",
   "pygments_lexer": "ipython3",
   "version": "3.8.2"
  }
 },
 "nbformat": 4,
 "nbformat_minor": 5
}
